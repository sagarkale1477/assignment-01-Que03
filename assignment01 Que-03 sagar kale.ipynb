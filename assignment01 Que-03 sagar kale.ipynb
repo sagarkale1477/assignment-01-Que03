{
 "cells": [
  {
   "cell_type": "code",
   "execution_count": 1,
   "id": "131163d8",
   "metadata": {},
   "outputs": [
    {
     "name": "stdout",
     "output_type": "stream",
     "text": [
      "Number of even numbers : 4\n",
      "Number of odd numbers : 5\n"
     ]
    }
   ],
   "source": [
    "l=[1,2,3,4,5,6,7,8,9]\n",
    "even=0 \n",
    "odd=0 \n",
    "for i in l:\n",
    "    if i%2==0:\n",
    "        even+=1 \n",
    "    elif i%2!=0:\n",
    "        odd+=1 \n",
    "print('Number of even numbers :',even)\n",
    "print('Number of odd numbers :',odd)"
   ]
  }
 ],
 "metadata": {
  "kernelspec": {
   "display_name": "Python 3 (ipykernel)",
   "language": "python",
   "name": "python3"
  },
  "language_info": {
   "codemirror_mode": {
    "name": "ipython",
    "version": 3
   },
   "file_extension": ".py",
   "mimetype": "text/x-python",
   "name": "python",
   "nbconvert_exporter": "python",
   "pygments_lexer": "ipython3",
   "version": "3.10.4"
  }
 },
 "nbformat": 4,
 "nbformat_minor": 5
}
